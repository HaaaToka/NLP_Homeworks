{
 "cells": [
  {
   "cell_type": "code",
   "execution_count": 1,
   "metadata": {},
   "outputs": [],
   "source": [
    "import dynet\n",
    "import json\n",
    "from glove import Glove\n",
    "import numpy as np\n",
    "import csv"
   ]
  },
  {
   "cell_type": "code",
   "execution_count": 5,
   "metadata": {},
   "outputs": [
    {
     "name": "stdout",
     "output_type": "stream",
     "text": [
      "Reading dataset...\n",
      "that crazed girl improvising her music eol bol her poetry dancing upon the shore eol bol her soul in division from itself eol bol climbing falling she knew not where eol bol hiding amid the cargo of a steamship eol bol her knee-cap broken that girl i declare eol bol a beautiful lofty thing or a thing eol bol heroically lost heroically found\n"
     ]
    }
   ],
   "source": [
    "def read_dataset(fpath):\n",
    "    print(\"Reading dataset...\")\n",
    "    res=\"\"\n",
    "    with open(fpath) as json_file:\n",
    "        data = json.load(json_file)\n",
    "        for d in data:\n",
    "            poem = d[\"poem\"]\n",
    "            res+=poem\n",
    "#             poem = poem.replace(\"\\n\",\" eol bol \")\n",
    "#             poem = \"\"\n",
    "#             print(poem)\n",
    "#             break\n",
    "    return poem\n",
    "#data = read_dataset('unim_poem.json')\n",
    "poems = read_dataset('unim_poem.json')\n",
    "\n",
    "\n",
    "# hem cumle basi sonuna hem de siir basi sonuna  token koy"
   ]
  },
  {
   "cell_type": "code",
   "execution_count": 10,
   "metadata": {},
   "outputs": [],
   "source": [
    "def read_glove(fpath):\n",
    "    print('Loading word vectors...')\n",
    "    word2vec = {}\n",
    "    embeds = []\n",
    "    word2idx = {}\n",
    "    with open(fpath, encoding='utf-8') as f:\n",
    "        for line in f:\n",
    "            values = line.split()\n",
    "            word = values[0]\n",
    "            word2idx[word] = len(embeds)\n",
    "            vec = np.asarray(values[1:], dtype='float32')\n",
    "            word2vec[word] = vec\n",
    "            embeds.append(vec)\n",
    "    return np.array(embeds),word2idx,word2vec"
   ]
  },
  {
   "cell_type": "code",
   "execution_count": null,
   "metadata": {},
   "outputs": [],
   "source": []
  },
  {
   "cell_type": "code",
   "execution_count": 11,
   "metadata": {},
   "outputs": [
    {
     "name": "stdout",
     "output_type": "stream",
     "text": [
      "Reading dataset...\n",
      "Loading word vectors...\n"
     ]
    }
   ],
   "source": [
    "\n",
    "embedding,w2i, w2v= read_glove('glovo/glove.6B.50d.txt')"
   ]
  },
  {
   "cell_type": "code",
   "execution_count": 9,
   "metadata": {},
   "outputs": [
    {
     "name": "stdout",
     "output_type": "stream",
     "text": [
      "(400000, 50)\n",
      "20000000\n"
     ]
    }
   ],
   "source": [
    "print(embedding.shape)\n",
    "print(embedding.size)\n",
    "#print(w2v['bos']) # begin of sentence\n",
    "#print(w2v['eos']) # end of sentence\n",
    "#print(w2v['eol']) # end of line\n",
    "#print(w2v['bol']) # begin of line"
   ]
  },
  {
   "cell_type": "code",
   "execution_count": null,
   "metadata": {},
   "outputs": [],
   "source": []
  },
  {
   "cell_type": "code",
   "execution_count": null,
   "metadata": {},
   "outputs": [],
   "source": []
  }
 ],
 "metadata": {
  "kernelspec": {
   "display_name": "Python 3.8.2 64-bit",
   "language": "python",
   "name": "python38264bit418366e376b14bef830f0db0b5287b85"
  },
  "language_info": {
   "codemirror_mode": {
    "name": "ipython",
    "version": 3
   },
   "file_extension": ".py",
   "mimetype": "text/x-python",
   "name": "python",
   "nbconvert_exporter": "python",
   "pygments_lexer": "ipython3",
   "version": "3.8.2"
  }
 },
 "nbformat": 4,
 "nbformat_minor": 4
}
